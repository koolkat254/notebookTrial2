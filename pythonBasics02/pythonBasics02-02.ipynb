{
 "cells": [
  {
   "cell_type": "markdown",
   "metadata": {},
   "source": [
    "# Lesson 02.02: \n",
    "## Variables in Python\n",
    "## Objective\n",
    "Teach students how to create and use variables in Python."
   ]
  },
  {
   "cell_type": "markdown",
   "metadata": {},
   "source": [
    "## Talking Points\n",
    "- Variables are assigned using the `=` sign. The left-hand side is the variable name, and the right-hand side is the value.\n",
    "- Variables can be reassigned.\n",
    "- Variable names should be descriptive, avoid reserved keywords, and follow naming conventions (e.g., `lowercase_with_underscores`)."
   ]
  },
  {
   "cell_type": "code",
   "execution_count": null,
   "metadata": {},
   "outputs": [],
   "source": [
    "# Example Code\n",
    "age = 25  # Assign an integer to a variable\n",
    "age = 26  # Reassign a new value\n",
    "\n",
    "first_name = \"John\"\n",
    "is_employed = False\n",
    "\n",
    "# Print the variables to see their values\n",
    "print(\"age:\", age)\n",
    "print(\"first_name:\", first_name)\n",
    "print(\"is_employed:\", is_employed)"
   ]
  },
  {
   "cell_type": "markdown",
   "metadata": {},
   "source": [
    "## Practice Exercise\n",
    "1. Assign the value `10` to a variable named `x`.\n",
    "2. Assign your name as a string to a variable named `name`.\n",
    "3. Print the variables."
   ]
  },
  {
   "cell_type": "code",
   "execution_count": null,
   "metadata": {},
   "outputs": [],
   "source": [
    "# Practice Exercise Code\n",
    "x = 10  # Assign value 10 to variable x\n",
    "name = \"Your Name\"  # Assign your name as a string to variable name\n",
    "\n",
    "# Print the variables to see their values\n",
    "print(\"x:\", x)\n",
    "print(\"name:\", name)"
   ]
  }
 ],
 "metadata": {
  "kernelspec": {
   "display_name": "Python 3",
   "language": "python",
   "name": "python3"
  },
  "language_info": {
   "codemirror_mode": {
    "name": "ipython",
    "version": 3
   },
   "file_extension": ".py",
   "mimetype": "text/x-python",
   "name": "python",
   "nbconvert_exporter": "python",
   "pygments_lexer": "ipython3",
   "version": "3.8.5"
  }
 },
 "nbformat": 4,
 "nbformat_minor": 5
}
