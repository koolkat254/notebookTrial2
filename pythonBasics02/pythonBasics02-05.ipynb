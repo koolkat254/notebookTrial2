{
 "cells": [
  {
   "cell_type": "markdown",
   "metadata": {},
   "source": [
    "# Lesson 02.05: \n",
    "## Input and Output in Python\n",
    "## Objective\n",
    "Learn how to accept user input and display output in Python."
   ]
  },
  {
   "cell_type": "markdown",
   "metadata": {},
   "source": [
    "## Talking Points\n",
    "- The `print()` function is used to display output to the console.\n",
    "- The `input()` function allows the user to provide input.\n",
    "- Input is always received as a string, so typecasting might be necessary."
   ]
  },
  {
   "cell_type": "code",
   "execution_count": null,
   "metadata": {},
   "outputs": [],
   "source": [
    "# Example Code\n",
    "\n",
    "# Output example\n",
    "print(\"Welcome to Python programming!\")\n",
    "\n",
    "# Input example\n",
    "name = input(\"Enter your name: \")\n",
    "age = input(\"Enter your age: \")\n",
    "\n",
    "# Casting input to int\n",
    "age = int(age)\n",
    "\n",
    "# Using input values in a sentence\n",
    "print(\"Hello, \" + name + \"! You are \" + str(age) + \" years old.\")"
   ]
  },
  {
   "cell_type": "markdown",
   "metadata": {},
   "source": [
    "## Practice Exercise\n",
    "1. Ask the user for their name and age.\n",
    "2. Convert the age to an integer and print a message like \"Hello, [name]! You are [age] years old.\"\n",
    "3. (Bonus) Ask for the user’s height and convert it to a float."
   ]
  },
  {
   "cell_type": "code",
   "execution_count": null,
   "metadata": {},
   "outputs": [],
   "source": [
    "# Practice Exercise Code\n",
    "\n",
    "# Ask the user for their name and age\n",
    "name = input(\"Enter your name: \")\n",
    "age = input(\"Enter your age: \")\n",
    "\n",
    "# Convert the age to an integer\n",
    "age = int(age)\n",
    "\n",
    "# Print a message\n",
    "print(\"Hello, \" + name + \"! You are \" + str(age) + \" years old.\")\n",
    "\n",
    "# Bonus: Ask for the user's height and convert it to a float\n",
    "height = input(\"Enter your height (in meters): \")\n",
    "height = float(height)\n",
    "print(\"Your height is \" + str(height) + \" meters.\")"
   ]
  }
 ],
 "metadata": {
  "kernelspec": {
   "display_name": "Python 3",
   "language": "python",
   "name": "python3"
  },
  "language_info": {
   "codemirror_mode": {
    "name": "ipython",
    "version": 3
   },
   "file_extension": ".py",
   "mimetype": "text/x-python",
   "name": "python",
   "nbconvert_exporter": "python",
   "pygments_lexer": "ipython3",
   "version": "3.8.5"
  }
 },
 "nbformat": 4,
 "nbformat_minor": 5
}
