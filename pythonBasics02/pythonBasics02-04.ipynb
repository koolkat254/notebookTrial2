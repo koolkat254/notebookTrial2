{
 "cells": [
  {
   "cell_type": "markdown",
   "metadata": {},
   "source": [
    "# Lesson 02.04: \n",
    "## Typecasting and Conversion\n",
    "## Objective\n",
    "Teach students how to convert between different data types."
   ]
  },
  {
   "cell_type": "markdown",
   "metadata": {},
   "source": [
    "## Talking Points\n",
    "- Python allows for typecasting, which is the conversion of one data type into another.\n",
    "- Use functions like `int()`, `float()`, `str()`, and `bool()` for conversion."
   ]
  },
  {
   "cell_type": "code",
   "execution_count": null,
   "metadata": {},
   "outputs": [],
   "source": [
    "# Example Code\n",
    "\n",
    "# Convert float to int\n",
    "x = 3.99\n",
    "y = int(x)\n",
    "print(y)  # Output: 3\n",
    "\n",
    "# Convert int to string\n",
    "num = 10\n",
    "num_str = str(num)\n",
    "print(num_str)  # Output: \"10\"\n",
    "\n",
    "# Convert string to float\n",
    "height = \"5.8\"\n",
    "height_float = float(height)\n",
    "print(height_float)  # Output: 5.8"
   ]
  },
  {
   "cell_type": "markdown",
   "metadata": {},
   "source": [
    "## Practice Exercise\n",
    "1. Convert a float to an integer.\n",
    "2. Convert a number to a string and concatenate it with another string (e.g., \"Age: \" + str(25)).\n",
    "3. Experiment with converting between different data types."
   ]
  },
  {
   "cell_type": "code",
   "execution_count": null,
   "metadata": {},
   "outputs": [],
   "source": [
    "# Practice Exercise Code\n",
    "\n",
    "# Convert a float to an integer\n",
    "pi = 3.14159\n",
    "pi_int = int(pi)\n",
    "print(pi_int)  # Output: 3\n",
    "\n",
    "# Convert a number to a string and concatenate it with another string\n",
    "age = 25\n",
    "age_str = str(age)\n",
    "age_message = \"Age: \" + age_str\n",
    "print(age_message)  # Output: \"Age: 25\"\n",
    "\n",
    "# Experiment with different conversions\n",
    "string_number = \"123\"\n",
    "converted_number = int(string_number)\n",
    "print(converted_number)  # Output: 123\n",
    "converted_float = float(string_number)\n",
    "print(converted_float)  # Output: 123.0"
   ]
  }
 ],
 "metadata": {
  "kernelspec": {
   "display_name": "Python 3",
   "language": "python",
   "name": "python3"
  },
  "language_info": {
   "codemirror_mode": {
    "name": "ipython",
    "version": 3
   },
   "file_extension": ".py",
   "mimetype": "text/x-python",
   "name": "python",
   "nbconvert_exporter": "python",
   "pygments_lexer": "ipython3",
   "version": "3.8.5"
  }
 },
 "nbformat": 4,
 "nbformat_minor": 5
}
