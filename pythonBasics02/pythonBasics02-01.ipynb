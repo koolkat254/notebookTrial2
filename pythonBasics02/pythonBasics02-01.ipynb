{
 "cells": [
  {
   "cell_type": "markdown",
   "metadata": {},
   "source": [
    "# Lesson 02.01: \n",
    "## Introduction to Variables and Data Types in Python\n",
    "## Objective\n",
    "Set the context for variables and data types in Python.\n"
   ]
  },
  {
   "cell_type": "markdown",
   "metadata": {},
   "source": [
    "## What is a Variable?\n",
    "A variable is a container for storing data values. Variables can be updated, reused, and manipulated. They are given names, and their values can change throughout the program."
   ]
  },
  {
   "cell_type": "markdown",
   "metadata": {},
   "source": [
    "## What are Data Types?\n",
    "Data types define the kind of value stored in a variable. Common data types in Python include:\n",
    "- `int`: Integer numbers (e.g., 5, -10, 0)\n",
    "- `float`: Decimal numbers (e.g., 3.14, -0.001)\n",
    "- `str`: Text or string (e.g., \"Hello\", 'Python')\n",
    "- `bool`: Boolean (True or False)"
   ]
  },
  {
   "cell_type": "code",
   "execution_count": null,
   "metadata": {},
   "outputs": [],
   "source": [
    "# Example Code\n",
    "x = 10  # int\n",
    "y = 3.14  # float\n",
    "name = \"Alice\"  # str\n",
    "is_student = True  # bool\n",
    "\n",
    "# Print the variables to see their values\n",
    "print(\"x:\", x)\n",
    "print(\"y:\", y)\n",
    "print(\"name:\", name)\n",
    "print(\"is_student:\", is_student)"
   ]
  }
 ],
 "metadata": {
  "kernelspec": {
   "display_name": "Python 3",
   "language": "python",
   "name": "python3"
  },
  "language_info": {
   "codemirror_mode": {
    "name": "ipython",
    "version": 3
   },
   "file_extension": ".py",
   "mimetype": "text/x-python",
   "name": "python",
   "nbconvert_exporter": "python",
   "pygments_lexer": "ipython3",
   "version": "3.8.5"
  }
 },
 "nbformat": 4,
 "nbformat_minor": 5
}
