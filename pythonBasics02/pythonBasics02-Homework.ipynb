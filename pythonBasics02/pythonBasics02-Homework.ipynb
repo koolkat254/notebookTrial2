{
 "cells": [
  {
   "cell_type": "markdown",
   "id": "9a91a96e",
   "metadata": {},
   "source": [
    "# Homework Assignment\n",
    "## Task\n",
    "Write a program that:\n",
    "1. Asks the user for their first name, last name, age, and favorite number.\n",
    "2. Converts the age to an integer and the favorite number to a float.\n",
    "3. Prints a summary message like: \"Hello, John Doe! You are 25 years old and your favorite number is 7.5.\""
   ]
  },
  {
   "cell_type": "code",
   "execution_count": null,
   "id": "22ae6ffa",
   "metadata": {},
   "outputs": [],
   "source": [
    "# Example Code for Homework Assignment\n",
    "\n",
    "# Ask the user for their details\n",
    "first_name = input(\"Enter your first name: \")\n",
    "last_name = input(\"Enter your last name: \")\n",
    "age = input(\"Enter your age: \")\n",
    "favorite_number = input(\"Enter your favorite number: \")\n",
    "\n",
    "# Convert age to integer and favorite number to float\n",
    "age = int(age)\n",
    "favorite_number = float(favorite_number)\n",
    "\n",
    "# Print the summary message\n",
    "print(f\"Hello, {first_name} {last_name}! You are {age} years old and your favorite number is {favorite_number}.\")"
   ]
  }
 ],
 "metadata": {
  "kernelspec": {
   "display_name": "Python 3",
   "language": "python",
   "name": "python3"
  },
  "language_info": {
   "codemirror_mode": {
    "name": "ipython",
    "version": 3
   },
   "file_extension": ".py",
   "mimetype": "text/x-python",
   "name": "python",
   "nbconvert_exporter": "python",
   "pygments_lexer": "ipython3",
   "version": "3.8.5"
  }
 },
 "nbformat": 4,
 "nbformat_minor": 5
}
