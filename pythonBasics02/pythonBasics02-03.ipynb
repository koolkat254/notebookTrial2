{
 "cells": [
  {
   "cell_type": "markdown",
   "metadata": {},
   "source": [
    "# Lesson 02.03: \n",
    "## Data Types and Type Checking\n",
    "## Objective\n",
    "Introduce and explore different data types in Python.\n"
   ]
  },
  {
   "cell_type": "markdown",
   "metadata": {},
   "source": [
    "## Talking Points\n",
    "- Use `type()` to check the data type of a variable.\n",
    "- Understand the difference between integers and floats, strings and booleans."
   ]
  },
  {
   "cell_type": "code",
   "execution_count": null,
   "metadata": {},
   "outputs": [],
   "source": [
    "# Example Code\n",
    "a = 5\n",
    "b = 3.14\n",
    "c = \"Python\"\n",
    "d = True\n",
    "\n",
    "print(type(a))  # Output: <class 'int'>\n",
    "print(type(b))  # Output: <class 'float'>\n",
    "print(type(c))  # Output: <class 'str'>\n",
    "print(type(d))  # Output: <class 'bool'>"
   ]
  },
  {
   "cell_type": "markdown",
   "metadata": {},
   "source": [
    "## Practice Exercise\n",
    "1. Create variables of different types and check their types using `type()`.\n",
    "2. Create variables for your age, height, full name, and whether you like Python (as a boolean)."
   ]
  },
  {
   "cell_type": "code",
   "execution_count": null,
   "metadata": {},
   "outputs": [],
   "source": [
    "# Practice Exercise Code\n",
    "age = 30  # Assign your age\n",
    "height = 5.9  # Assign your height (float)\n",
    "full_name = \"Your Full Name\"  # Assign your full name (string)\n",
    "likes_python = True  # Whether you like Python (boolean)\n",
    "\n",
    "# Print the types of the variables\n",
    "print(type(age))  # Should output: <class 'int'>\n",
    "print(type(height))  # Should output: <class 'float'>\n",
    "print(type(full_name))  # Should output: <class 'str'>\n",
    "print(type(likes_python))  # Should output: <class 'bool'>"
   ]
  }
 ],
 "metadata": {
  "kernelspec": {
   "display_name": "Python 3",
   "language": "python",
   "name": "python3"
  },
  "language_info": {
   "codemirror_mode": {
    "name": "ipython",
    "version": 3
   },
   "file_extension": ".py",
   "mimetype": "text/x-python",
   "name": "python",
   "nbconvert_exporter": "python",
   "pygments_lexer": "ipython3",
   "version": "3.8.5"
  }
 },
 "nbformat": 4,
 "nbformat_minor": 5
}
