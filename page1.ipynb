{
 "cells": [
  {
   "cell_type": "markdown",
   "id": "a10e6f03-9c9a-4f8c-8ebc-fa39dea15092",
   "metadata": {
    "editable": true,
    "slideshow": {
     "slide_type": ""
    },
    "tags": []
   },
   "source": [
    "# 🌟 My Amazing Python Tutorial! 🌟\n",
    "\n",
    "Welcome to the **ultimate guide** to mastering Python! Whether you're a beginner or an experienced developer, this tutorial will help you elevate your Python skills to the next level. Let's dive in and start coding! 🚀\n"
   ]
  },
  {
   "cell_type": "markdown",
   "id": "75f8d0f8-dce9-438f-901a-25f9c980b541",
   "metadata": {
    "editable": true,
    "slideshow": {
     "slide_type": ""
    },
    "tags": []
   },
   "source": [
    "Try the script below by pressing play. Then edit it to print anything you want!"
   ]
  },
  {
   "cell_type": "code",
   "execution_count": 1,
   "id": "7080e09e-3c04-4e9a-8f2c-b92f845d25d1",
   "metadata": {
    "editable": false,
    "slideshow": {
     "slide_type": ""
    },
    "tags": []
   },
   "outputs": [
    {
     "name": "stdout",
     "output_type": "stream",
     "text": [
      "Hello World\n"
     ]
    }
   ],
   "source": [
    "x = \"Hello World\"\n",
    "print(x)"
   ]
  }
 ],
 "metadata": {
  "kernelspec": {
   "display_name": "Python 3 (ipykernel)",
   "language": "python",
   "name": "python3"
  },
  "language_info": {
   "codemirror_mode": {
    "name": "ipython",
    "version": 3
   },
   "file_extension": ".py",
   "mimetype": "text/x-python",
   "name": "python",
   "nbconvert_exporter": "python",
   "pygments_lexer": "ipython3",
   "version": "3.12.0"
  }
 },
 "nbformat": 4,
 "nbformat_minor": 5
}
