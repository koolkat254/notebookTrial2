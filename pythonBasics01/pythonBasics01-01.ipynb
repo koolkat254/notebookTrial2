{
 "cells": [
  {
   "cell_type": "markdown",
   "metadata": {},
   "source": [
    "# Lesson 01.01: Setting Up Jupyter Notebooks\n",
    "\n"
   ]
  },
  {
   "cell_type": "markdown",
   "metadata": {},
   "source": [
    "## Objective:\n",
    "Students will be able to access and run Jupyter Notebooks online, specifically Google Colab.\n",
    "\n",
    "### 1. Introduction to Jupyter Notebooks\n",
    "\n",
    "Jupyter Notebooks are a fantastic tool for writing and running Python code. We'll use **Google Colab** as an online Jupyter Notebook environment. \n",
    "\n",
    "\n",
    "### 2. Basic Layout of Jupyter Notebooks\n",
    "\n",
    "#### 2.1 Markdown Cells:\n",
    "Markdown cells are used to add descriptions, instructions, or formatted text (like this).\n",
    "\n",
    "\n",
    "#### 2.2 Code Cells:\n",
    "Code cells are where you write and run Python code. Here’s an example of a simple Python code:\n",
    "\n",
    "```python\n",
    "# Example code: Adding two numbers\n",
    "a = 5\n",
    "b = 10\n",
    "print(a + b)\n",
    "```\n",
    "\n",
    "To **run** code, click the \"Run\" button or press `Shift + Enter`.\n",
    "\n",
    "## Practice Exercise\n",
    "### Task:\n",
    "\n",
    "1. Write your first Python code that prints \"Hello, Jupyter!\" in a **code cell**.\n",
    "\n",
    "#### Example Code:\n",
    "```python\n",
    "# First Python code in Jupyter\n",
    "print(\"Hello, Jupyter!\")\n",
    "```\n"
   ]
  },
  {
   "cell_type": "code",
   "execution_count": null,
   "metadata": {},
   "outputs": [],
   "source": [
    "# First Python code in Jupyter\n",
    "# Type your code in this box and run it\n",
    "\n",
    "\n"
   ]
  },
  {
   "cell_type": "markdown",
   "metadata": {},
   "source": [
    "Run your code by pressing `Shift + Enter`.\n",
    "\n",
    "Congratulations! You've ran your first Jupyter Notebook and written your first piece of Python code. 🎉\n",
    "\n",
    "<a src=\"http://colab.research.google.com/github/koolkat254/notebookTrial2/blob/main/pythonBasics01/pythonBasics01-02.ipynb\">Go to Lesson 01-02</a>"
   ]
  }
 ],
 "metadata": {
  "kernelspec": {
   "display_name": "Python 3",
   "language": "python",
   "name": "python3"
  },
  "language_info": {
   "name": "python",
   "version": "3.12.0"
  }
 },
 "nbformat": 4,
 "nbformat_minor": 4
}
