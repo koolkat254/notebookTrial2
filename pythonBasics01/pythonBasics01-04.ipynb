{
 "cells": [
  {
   "cell_type": "markdown",
   "metadata": {},
   "source": [
    "# Lesson 01.04: \n",
    "## Running Python Code in Jupyter Notebooks\n",
    "\n",
    "## Objective:\n",
    "Teach students how to write and run Python code in Jupyter Notebooks.\n",
    "\n",
    "---\n",
    "\n",
    "### 1. Running Code Cells\n",
    "\n",
    "In Jupyter, each **code cell** is an independent environment, meaning you can write and run code within one cell at a time.\n",
    "\n",
    "#### How to Run a Code Cell:\n",
    "- Click on a **code cell**.\n",
    "- Either click the **Run** button (located at the top of the notebook), or press `Shift + Enter` to execute the code inside the cell.\n",
    "\n",
    "---\n",
    "\n",
    "### 2. Example of Running Code in a Cell\n",
    "\n",
    "Let’s run a simple Python code in a cell. This code will print a message to the screen. Try running the code below by clicking the cell and pressing `Shift + Enter`.\n",
    "\n",
    "```python\n",
    "# Example of running Python code in a Jupyter Notebook\n",
    "print('Hello from Jupyter!')\n",
    "```\n",
    "\n",
    "---\n",
    "\n",
    "### 3. Practice Exercise\n",
    "\n",
    "#### Task:\n",
    "- Write a Python script that stores your name and your favorite hobby in variables.\n",
    "- Use `print()` to display the variables.\n",
    "- Run the code inside a code cell to see the output.\n",
    "\n",
    "#### Example Code:\n",
    "\n",
    "```python\n",
    "# Storing and printing name and hobby\n",
    "name = \"Alice\"\n",
    "hobby = \"Reading\"\n",
    "print(\"My name is\", name)\n",
    "print(\"My favorite hobby is\", hobby)\n",
    "```\n",
    "---\n",
    "\n",
    "### 4. Additional Notes\n",
    "- Each code cell runs independently, but you can reference variables across cells if they’ve already been defined.\n",
    "- Running cells in Jupyter Notebooks is interactive, meaning you can see the output of each block of code as soon as it executes.\n",
    "\n",
    "Congrats! You've learned how to run Python code in Jupyter. 🎉\n"
   ]
  },
  {
   "cell_type": "code",
   "execution_count": null,
   "metadata": {},
   "outputs": [],
   "source": [
    "# Example of running Python code in a Jupyter Notebook\n",
    "print('Hello from Jupyter!')"
   ]
  },
  {
   "cell_type": "code",
   "execution_count": null,
   "metadata": {},
   "outputs": [],
   "source": [
    "# Storing and printing name and hobby\n",
    "name = \"Alice\"\n",
    "hobby = \"Reading\"\n",
    "print(\"My name is\", name)\n",
    "print(\"My favorite hobby is\", hobby)"
   ]
  }
 ],
 "metadata": {
  "kernelspec": {
   "display_name": "Python 3",
   "language": "python",
   "name": "python3"
  },
  "language_info": {
   "name": "python",
   "version": "3.8"
  }
 },
 "nbformat": 4,
 "nbformat_minor": 4
}
