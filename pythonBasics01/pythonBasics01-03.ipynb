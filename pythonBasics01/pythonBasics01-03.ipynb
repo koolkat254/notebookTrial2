{
  "cells": [
    {
      "cell_type": "markdown",
      "metadata": {},
      "source": [
        "# Lesson 01.03:\n",
        "## Introduction to Python Syntax\n",
        "\n",
        "**Duration:** 15 minutes\n",
        "\n",
        "### Objective:\n",
        "By the end of this session, students will be introduced to Python's basic syntax, structure, and some essential coding features."
      ]
    },
    {
      "cell_type": "markdown",
      "metadata": {},
      "source": [
        "### Talking Points:\n",
        "1. **Python Syntax Overview**\n",
        "- Python uses **indentation** (spaces or tabs) to define code blocks, unlike other languages that use braces ({}).\n",
        "- Python is **case-sensitive**, meaning `Var` and `var` are different variables.\n",
        "- Python scripts typically have a `.py` file extension."
      ]
    },
    {
      "cell_type": "markdown",
      "metadata": {},
      "source": [
        "### 2. Basic Python Syntax:\n",
        "- **Dynamic Typing**: Variables do not need to be declared with a specific type.\n",
        "- **No Semicolons**: Python does not require a semicolon (`;`) to mark the end of a statement."
      ]
    },
    {
      "cell_type": "markdown",
      "metadata": {},
      "source": [
        "### Example Code: Comments, Variables, and Print Statements\n",
        "Let's start by looking at basic Python syntax through a simple code example."
      ]
    },
    {
      "cell_type": "code",
      "execution_count": null,
      "metadata": {},
      "outputs": [],
      "source": [
        "# This is a comment\n",
        "name = \"Alice\"  # Assign a string to a variable\n",
        "age = 25         # Assign an integer to a variable\n",
        "\n",
        "# Print the values\n",
        "print(name)\n",
        "print(age)"
      ]
    },
    {
      "cell_type": "markdown",
      "metadata": {},
      "source": [
        "In the above example:\n",
        "- **Comments**: Lines starting with `#` are comments and are not executed.\n",
        "- **Variable Assignment**: Variables can store different types of data such as strings and integers.\n",
        "- **Print Statement**: The `print()` function is used to display output."
      ]
    },
    {
      "cell_type": "markdown",
      "metadata": {},
      "source": [
        "### 3. Indentation and Code Blocks\n",
        "Python uses **indentation** (spaces or tabs) to define code blocks. This is different from other languages like C, Java, or JavaScript, which use curly braces `{}`.\n",
        "\n",
        "Below is an example demonstrating how Python uses indentation in conditional statements:"
      ]
    },
    {
      "cell_type": "code",
      "execution_count": null,
      "metadata": {},
      "outputs": [],
      "source": [
        "age = 25\n",
        "\n",
        "# Conditional statements using indentation\n",
        "if age > 18:\n",
        "    print(\"You are an adult.\")\n",
        "else:\n",
        "    print(\"You are a minor.\")"
      ]
    },
    {
      "cell_type": "markdown",
      "metadata": {},
      "source": [
        "### 4. Case Sensitivity in Python\n",
        "Python is **case-sensitive**, meaning `Name` and `name` are treated as different variables."
      ]
    },
    {
      "cell_type": "code",
      "execution_count": null,
      "metadata": {},
      "outputs": [],
      "source": [
        "# Python is case-sensitive\n",
        "Name = \"Alice\"\n",
        "name = \"Bob\"\n",
        "\n",
        "# These two variables are different\n",
        "print(Name)  # Output: Alice\n",
        "print(name)  # Output: Bob"
      ]
    },
    {
      "cell_type": "markdown",
      "metadata": {},
      "source": [
        "### Practice Exercise:\n",
        "1. Open your IDE (e.g., VS Code, PyCharm, or Jupyter Notebook).\n",
        "2. Create a new Python file.\n",
        "3. Write code to store and print your name and age.\n",
        "\n",
        "Example code:\n",
        "```python\n",
        "# Store your name and age\n",
        "name = \"John\"\n",
        "age = 30\n",
        "\n",
        "# Print the values\n",
        "print(\"My name is\", name)\n",
        "print(\"I am\", age, \"years old.\")\n",
        "```"
      ]
    },
    {
      "cell_type": "markdown",
      "metadata": {},
      "source": [
        "### Conclusion:\n",
        "- Python uses **indentation** to define code blocks.\n",
        "- Python is **case-sensitive**.\n",
        "- Variables in Python are dynamically typed, and statements do not require semicolons.\n",
        "\n",
        "Now that you understand the basics of Python syntax, you're ready to explore more advanced features!"
      ]
    }
  ],
  "metadata": {
    "kernelspec": {
      "display_name": "Python 3",
      "language": "python",
      "name": "python3"
    },
    "language_info": {
      "codemirror_mode": {
        "name": "ipython",
        "version": 3
      },
      "file_extension": ".py",
      "mimetype": "text/x-python",
      "name": "python",
      "nbconvert_exporter": "python",
      "version": "3.8"
    }
  },
  "nbformat": 4,
  "nbformat_minor": 4
}
