{
 "cells": [
  {
   "cell_type": "markdown",
   "metadata": {},
   "source": [
    "# Lesson 01.05: \n",
    "## Writing Your First Program - 'Hello, World!'\n",
    "\n",
    "## Objective:\n",
    "Teach students to write and run their first Python program: the classic 'Hello, World!' script.\n",
    "\n",
    "---\n",
    "\n",
    "### 1. What is the 'Hello, World!' Program?\n",
    "\n",
    "- The 'Hello, World!' program is a simple program that prints **Hello, World!** to the console.\n",
    "- It is often the very first program written when learning a new programming language.\n",
    "- Writing this simple program helps you understand how to use the basic features of a language, such as outputting text to the console.\n",
    "\n",
    "---\n",
    "\n",
    "### 2. Example Code: 'Hello, World!'\n",
    "Let's write our first program to print **Hello, World!** to the screen. You can run the code below by clicking the cell and pressing `Shift + Enter`.\n",
    "\n",
    "```python\n",
    "# Hello, World! Program\n",
    "print(\"Hello, World!\")\n",
    "```\n",
    "\n",
    "---\n",
    "\n",
    "### 3. Practice Exercise: Write Your Own 'Hello, World!' Program\n",
    "\n",
    "#### Task:\n",
    "- Write your own version of the 'Hello, World!' program.\n",
    "- In a new code cell, type the `print()` function with your own text, and run the cell to display the output.\n",
    "\n",
    "#### Example:\n",
    "\n",
    "```python\n",
    "# My First Python Program\n",
    "print(\"My first Python program says: Hello, World!\")\n",
    "```\n",
    "\n",
    "---\n",
    "\n",
    "### 4. Additional Notes\n",
    "- Congratulations! You've successfully written your first Python program.\n",
    "- The `print()` function is the easiest way to display output in Python.\n",
    "- You can use it to display any text, numbers, or even variables, which we will explore in the upcoming lessons.\n",
    "\n",
    "Great job on completing your first step into Python programming! 🎉\n"
   ]
  },
  {
   "cell_type": "code",
   "execution_count": null,
   "metadata": {},
   "outputs": [],
   "source": [
    "# Hello, World! Program\n",
    "print(\"Hello, World!\")"
   ]
  },
  {
   "cell_type": "code",
   "execution_count": null,
   "metadata": {},
   "outputs": [],
   "source": [
    "# My First Python Program\n",
    "print(\"My first Python program says: Hello, World!\")"
   ]
  }
 ],
 "metadata": {
  "kernelspec": {
   "display_name": "Python 3",
   "language": "python",
   "name": "python3"
  },
  "language_info": {
   "name": "python",
   "version": "3.8"
  }
 },
 "nbformat": 4,
 "nbformat_minor": 4
}
