{
 "cells": [
  {
   "cell_type": "markdown",
   "metadata": {},
   "source": [
    "# Homework Assignment\n",
    "\n",
    "### Objective:\n",
    "In this homework, you will practice writing Python code to store and print values using variables. You'll also experiment with adding comments and extra print statements.\n",
    "\n",
    "---\n",
    "\n",
    "### Instructions:\n",
    "\n",
    "1. Write a Python script that stores your **favorite movie**, **favorite book**, and **favorite song** in separate variables.\n",
    "2. Use the `print()` function to display each of these variables.\n",
    "3. Bonus: Add comments to your code explaining what each line does, and add extra `print()` statements if you want to print something else (e.g., why you like each item).\n",
    "\n",
    "---\n",
    "\n",
    "### Example of What You’ll Do:\n",
    "Your code should look something like this (but with your own favorites):\n",
    "```python\n",
    "# This line stores my favorite movie in a variable\n",
    "favorite_movie = \"Inception\"\n",
    "\n",
    "# This line stores my favorite book in a variable\n",
    "favorite_book = \"1984 by George Orwell\"\n",
    "\n",
    "# This line stores my favorite song in a variable\n",
    "favorite_song = \"Bohemian Rhapsody by Queen\"\n",
    "\n",
    "# Now let's print each of them\n",
    "print(\"Favorite Movie:\", favorite_movie)\n",
    "print(\"Favorite Book:\", favorite_book)\n",
    "print(\"Favorite Song:\", favorite_song)\n",
    "\n",
    "# Bonus: Adding extra print statements and comments\n",
    "print(\"Why do I like these?\")\n",
    "print(\"Inception is mind-bending, 1984 is thought-provoking, and Bohemian Rhapsody is timeless!\")\n",
    "```\n",
    "\n",
    "---\n",
    "\n",
    "### Now It’s Your Turn!\n",
    "In the code cell below, write your own Python script to store and print your favorite movie, book, and song.\n"
   ]
  },
  {
   "cell_type": "code",
   "execution_count": null,
   "metadata": {},
   "outputs": [],
   "source": [
    "# Write your code here:\n",
    "\n",
    "# Store your favorite movie, book, and song in variables\n",
    "favorite_movie = \"\"\n",
    "favorite_book = \"\"\n",
    "favorite_song = \"\"\n",
    "\n",
    "# Print each of the variables\n",
    "print(\"Favorite Movie:\", favorite_movie)\n",
    "print(\"Favorite Book:\", favorite_book)\n",
    "print(\"Favorite Song:\", favorite_song)\n",
    "\n",
    "# Bonus: Add comments and extra print statements if you like\n"
   ]
  },
  {
   "cell_type": "markdown",
   "metadata": {},
   "source": [
    "### Bonus Challenge:\n",
    "Feel free to add more details in your prints, such as why you enjoy each item. You can also experiment with adding more comments throughout your code.\n",
    "\n",
    "Happy coding!"
   ]
  }
 ],
 "metadata": {
  "kernelspec": {
   "display_name": "Python 3",
   "language": "python",
   "name": "python3"
  },
  "language_info": {
   "name": "python",
   "version": "3.8"
  }
 },
 "nbformat": 4,
 "nbformat_minor": 4
}
